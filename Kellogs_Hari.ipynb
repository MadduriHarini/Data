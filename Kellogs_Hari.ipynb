{
  "nbformat": 4,
  "nbformat_minor": 0,
  "metadata": {
    "colab": {
      "provenance": [],
      "authorship_tag": "ABX9TyNR59HAa1WRzEgs5L7ZNtl8",
      "include_colab_link": true
    },
    "kernelspec": {
      "name": "ir",
      "display_name": "R"
    },
    "language_info": {
      "name": "R"
    }
  },
  "cells": [
    {
      "cell_type": "markdown",
      "metadata": {
        "id": "view-in-github",
        "colab_type": "text"
      },
      "source": [
        "<a href=\"https://colab.research.google.com/github/MadduriHarini/Data/blob/main/Kellogs_Hari.ipynb\" target=\"_parent\"><img src=\"https://colab.research.google.com/assets/colab-badge.svg\" alt=\"Open In Colab\"/></a>"
      ]
    },
    {
      "cell_type": "code",
      "execution_count": null,
      "metadata": {
        "id": "Xd4k1XN88rYb"
      },
      "outputs": [],
      "source": [
        "Project : Olympics Analysis by Kellogg"
      ]
    },
    {
      "cell_type": "markdown",
      "source": [
        "**Kavya** **Sree** **Harini** **Madduri**"
      ],
      "metadata": {
        "id": "nyY_ELaW8tG5"
      }
    },
    {
      "cell_type": "markdown",
      "source": [
        "**Atheletics_EdgarAllen** ~ **SPONSOR**"
      ],
      "metadata": {
        "id": "GeGW1NaL8unj"
      }
    },
    {
      "cell_type": "markdown",
      "source": [
        "**OBJECTIVE**:\n",
        "This projects aims at churning out the best suited Sponsor from the given Dataset of Athlete and Sport.\n",
        "\n",
        "Though Kellog's is an American multinational food manufacturing company,its products are manufactured and marketed over 180 countries.\n",
        "While choosing a Sponsor iam commited to find a Sport and Athlete which can support their huge brand.\n",
        "\n"
      ],
      "metadata": {
        "id": "FMx5o0huAmWF"
      }
    },
    {
      "cell_type": "markdown",
      "source": [
        "**Data** **Exploration**:- **bold text**"
      ],
      "metadata": {
        "id": "r78QAKHBBvii"
      }
    },
    {
      "cell_type": "code",
      "source": [
        "Dataset= read.csv(\"athlete_events.csv\")"
      ],
      "metadata": {
        "colab": {
          "base_uri": "https://localhost:8080/"
        },
        "id": "0IumZ15I-JTn",
        "outputId": "7986048e-ef6f-4242-f83f-204e9f38f371"
      },
      "execution_count": null,
      "outputs": [
        {
          "output_type": "stream",
          "name": "stderr",
          "text": [
            "Warning message in scan(file = file, what = what, sep = sep, quote = quote, dec = dec, :\n",
            "“EOF within quoted string”\n"
          ]
        }
      ]
    },
    {
      "cell_type": "code",
      "source": [
        "head(Dataset,10)"
      ],
      "metadata": {
        "colab": {
          "base_uri": "https://localhost:8080/",
          "height": 954
        },
        "id": "zoWZsXvt_1Ke",
        "outputId": "4e119e8b-d048-4503-ef8e-1a755fb1f240"
      },
      "execution_count": null,
      "outputs": [
        {
          "output_type": "display_data",
          "data": {
            "text/html": [
              "<table class=\"dataframe\">\n",
              "<caption>A data.frame: 10 × 15</caption>\n",
              "<thead>\n",
              "\t<tr><th></th><th scope=col>ID</th><th scope=col>Name</th><th scope=col>Sex</th><th scope=col>Age</th><th scope=col>Height</th><th scope=col>Weight</th><th scope=col>Team</th><th scope=col>NOC</th><th scope=col>Games</th><th scope=col>Year</th><th scope=col>Season</th><th scope=col>City</th><th scope=col>Sport</th><th scope=col>Event</th><th scope=col>Medal</th></tr>\n",
              "\t<tr><th></th><th scope=col>&lt;int&gt;</th><th scope=col>&lt;chr&gt;</th><th scope=col>&lt;chr&gt;</th><th scope=col>&lt;int&gt;</th><th scope=col>&lt;int&gt;</th><th scope=col>&lt;dbl&gt;</th><th scope=col>&lt;chr&gt;</th><th scope=col>&lt;chr&gt;</th><th scope=col>&lt;chr&gt;</th><th scope=col>&lt;int&gt;</th><th scope=col>&lt;chr&gt;</th><th scope=col>&lt;chr&gt;</th><th scope=col>&lt;chr&gt;</th><th scope=col>&lt;chr&gt;</th><th scope=col>&lt;chr&gt;</th></tr>\n",
              "</thead>\n",
              "<tbody>\n",
              "\t<tr><th scope=row>1</th><td>1</td><td>A Dijiang               </td><td>M</td><td>24</td><td>180</td><td>80</td><td>China         </td><td>CHN</td><td>1992 Summer</td><td>1992</td><td>Summer</td><td>Barcelona  </td><td>Basketball   </td><td>Basketball Men's Basketball       </td><td>NA  </td></tr>\n",
              "\t<tr><th scope=row>2</th><td>2</td><td>A Lamusi                </td><td>M</td><td>23</td><td>170</td><td>60</td><td>China         </td><td>CHN</td><td>2012 Summer</td><td>2012</td><td>Summer</td><td>London     </td><td>Judo         </td><td>Judo Men's Extra-Lightweight      </td><td>NA  </td></tr>\n",
              "\t<tr><th scope=row>3</th><td>3</td><td>Gunnar Nielsen Aaby     </td><td>M</td><td>24</td><td> NA</td><td>NA</td><td>Denmark       </td><td>DEN</td><td>1920 Summer</td><td>1920</td><td>Summer</td><td>Antwerpen  </td><td>Football     </td><td>Football Men's Football           </td><td>NA  </td></tr>\n",
              "\t<tr><th scope=row>4</th><td>4</td><td>Edgar Lindenau Aabye    </td><td>M</td><td>34</td><td> NA</td><td>NA</td><td>Denmark/Sweden</td><td>DEN</td><td>1900 Summer</td><td>1900</td><td>Summer</td><td>Paris      </td><td>Tug-Of-War   </td><td>Tug-Of-War Men's Tug-Of-War       </td><td>Gold</td></tr>\n",
              "\t<tr><th scope=row>5</th><td>5</td><td>Christine Jacoba Aaftink</td><td>F</td><td>21</td><td>185</td><td>82</td><td>Netherlands   </td><td>NED</td><td>1988 Winter</td><td>1988</td><td>Winter</td><td>Calgary    </td><td>Speed Skating</td><td>Speed Skating Women's 500 metres  </td><td>NA  </td></tr>\n",
              "\t<tr><th scope=row>6</th><td>5</td><td>Christine Jacoba Aaftink</td><td>F</td><td>21</td><td>185</td><td>82</td><td>Netherlands   </td><td>NED</td><td>1988 Winter</td><td>1988</td><td>Winter</td><td>Calgary    </td><td>Speed Skating</td><td>Speed Skating Women's 1,000 metres</td><td>NA  </td></tr>\n",
              "\t<tr><th scope=row>7</th><td>5</td><td>Christine Jacoba Aaftink</td><td>F</td><td>25</td><td>185</td><td>82</td><td>Netherlands   </td><td>NED</td><td>1992 Winter</td><td>1992</td><td>Winter</td><td>Albertville</td><td>Speed Skating</td><td>Speed Skating Women's 500 metres  </td><td>NA  </td></tr>\n",
              "\t<tr><th scope=row>8</th><td>5</td><td>Christine Jacoba Aaftink</td><td>F</td><td>25</td><td>185</td><td>82</td><td>Netherlands   </td><td>NED</td><td>1992 Winter</td><td>1992</td><td>Winter</td><td>Albertville</td><td>Speed Skating</td><td>Speed Skating Women's 1,000 metres</td><td>NA  </td></tr>\n",
              "\t<tr><th scope=row>9</th><td>5</td><td>Christine Jacoba Aaftink</td><td>F</td><td>27</td><td>185</td><td>82</td><td>Netherlands   </td><td>NED</td><td>1994 Winter</td><td>1994</td><td>Winter</td><td>Lillehammer</td><td>Speed Skating</td><td>Speed Skating Women's 500 metres  </td><td>NA  </td></tr>\n",
              "\t<tr><th scope=row>10</th><td>5</td><td>Christine Jacoba Aaftink</td><td>F</td><td>27</td><td>185</td><td>82</td><td>Netherlands   </td><td>NED</td><td>1994 Winter</td><td>1994</td><td>Winter</td><td>Lillehammer</td><td>Speed Skating</td><td>Speed Skating Women's 1,000 metres</td><td>NA  </td></tr>\n",
              "</tbody>\n",
              "</table>\n"
            ],
            "text/markdown": "\nA data.frame: 10 × 15\n\n| <!--/--> | ID &lt;int&gt; | Name &lt;chr&gt; | Sex &lt;chr&gt; | Age &lt;int&gt; | Height &lt;int&gt; | Weight &lt;dbl&gt; | Team &lt;chr&gt; | NOC &lt;chr&gt; | Games &lt;chr&gt; | Year &lt;int&gt; | Season &lt;chr&gt; | City &lt;chr&gt; | Sport &lt;chr&gt; | Event &lt;chr&gt; | Medal &lt;chr&gt; |\n|---|---|---|---|---|---|---|---|---|---|---|---|---|---|---|---|\n| 1 | 1 | A Dijiang                | M | 24 | 180 | 80 | China          | CHN | 1992 Summer | 1992 | Summer | Barcelona   | Basketball    | Basketball Men's Basketball        | NA   |\n| 2 | 2 | A Lamusi                 | M | 23 | 170 | 60 | China          | CHN | 2012 Summer | 2012 | Summer | London      | Judo          | Judo Men's Extra-Lightweight       | NA   |\n| 3 | 3 | Gunnar Nielsen Aaby      | M | 24 |  NA | NA | Denmark        | DEN | 1920 Summer | 1920 | Summer | Antwerpen   | Football      | Football Men's Football            | NA   |\n| 4 | 4 | Edgar Lindenau Aabye     | M | 34 |  NA | NA | Denmark/Sweden | DEN | 1900 Summer | 1900 | Summer | Paris       | Tug-Of-War    | Tug-Of-War Men's Tug-Of-War        | Gold |\n| 5 | 5 | Christine Jacoba Aaftink | F | 21 | 185 | 82 | Netherlands    | NED | 1988 Winter | 1988 | Winter | Calgary     | Speed Skating | Speed Skating Women's 500 metres   | NA   |\n| 6 | 5 | Christine Jacoba Aaftink | F | 21 | 185 | 82 | Netherlands    | NED | 1988 Winter | 1988 | Winter | Calgary     | Speed Skating | Speed Skating Women's 1,000 metres | NA   |\n| 7 | 5 | Christine Jacoba Aaftink | F | 25 | 185 | 82 | Netherlands    | NED | 1992 Winter | 1992 | Winter | Albertville | Speed Skating | Speed Skating Women's 500 metres   | NA   |\n| 8 | 5 | Christine Jacoba Aaftink | F | 25 | 185 | 82 | Netherlands    | NED | 1992 Winter | 1992 | Winter | Albertville | Speed Skating | Speed Skating Women's 1,000 metres | NA   |\n| 9 | 5 | Christine Jacoba Aaftink | F | 27 | 185 | 82 | Netherlands    | NED | 1994 Winter | 1994 | Winter | Lillehammer | Speed Skating | Speed Skating Women's 500 metres   | NA   |\n| 10 | 5 | Christine Jacoba Aaftink | F | 27 | 185 | 82 | Netherlands    | NED | 1994 Winter | 1994 | Winter | Lillehammer | Speed Skating | Speed Skating Women's 1,000 metres | NA   |\n\n",
            "text/latex": "A data.frame: 10 × 15\n\\begin{tabular}{r|lllllllllllllll}\n  & ID & Name & Sex & Age & Height & Weight & Team & NOC & Games & Year & Season & City & Sport & Event & Medal\\\\\n  & <int> & <chr> & <chr> & <int> & <int> & <dbl> & <chr> & <chr> & <chr> & <int> & <chr> & <chr> & <chr> & <chr> & <chr>\\\\\n\\hline\n\t1 & 1 & A Dijiang                & M & 24 & 180 & 80 & China          & CHN & 1992 Summer & 1992 & Summer & Barcelona   & Basketball    & Basketball Men's Basketball        & NA  \\\\\n\t2 & 2 & A Lamusi                 & M & 23 & 170 & 60 & China          & CHN & 2012 Summer & 2012 & Summer & London      & Judo          & Judo Men's Extra-Lightweight       & NA  \\\\\n\t3 & 3 & Gunnar Nielsen Aaby      & M & 24 &  NA & NA & Denmark        & DEN & 1920 Summer & 1920 & Summer & Antwerpen   & Football      & Football Men's Football            & NA  \\\\\n\t4 & 4 & Edgar Lindenau Aabye     & M & 34 &  NA & NA & Denmark/Sweden & DEN & 1900 Summer & 1900 & Summer & Paris       & Tug-Of-War    & Tug-Of-War Men's Tug-Of-War        & Gold\\\\\n\t5 & 5 & Christine Jacoba Aaftink & F & 21 & 185 & 82 & Netherlands    & NED & 1988 Winter & 1988 & Winter & Calgary     & Speed Skating & Speed Skating Women's 500 metres   & NA  \\\\\n\t6 & 5 & Christine Jacoba Aaftink & F & 21 & 185 & 82 & Netherlands    & NED & 1988 Winter & 1988 & Winter & Calgary     & Speed Skating & Speed Skating Women's 1,000 metres & NA  \\\\\n\t7 & 5 & Christine Jacoba Aaftink & F & 25 & 185 & 82 & Netherlands    & NED & 1992 Winter & 1992 & Winter & Albertville & Speed Skating & Speed Skating Women's 500 metres   & NA  \\\\\n\t8 & 5 & Christine Jacoba Aaftink & F & 25 & 185 & 82 & Netherlands    & NED & 1992 Winter & 1992 & Winter & Albertville & Speed Skating & Speed Skating Women's 1,000 metres & NA  \\\\\n\t9 & 5 & Christine Jacoba Aaftink & F & 27 & 185 & 82 & Netherlands    & NED & 1994 Winter & 1994 & Winter & Lillehammer & Speed Skating & Speed Skating Women's 500 metres   & NA  \\\\\n\t10 & 5 & Christine Jacoba Aaftink & F & 27 & 185 & 82 & Netherlands    & NED & 1994 Winter & 1994 & Winter & Lillehammer & Speed Skating & Speed Skating Women's 1,000 metres & NA  \\\\\n\\end{tabular}\n",
            "text/plain": [
              "   ID Name                     Sex Age Height Weight Team           NOC\n",
              "1  1  A Dijiang                M   24  180    80     China          CHN\n",
              "2  2  A Lamusi                 M   23  170    60     China          CHN\n",
              "3  3  Gunnar Nielsen Aaby      M   24   NA    NA     Denmark        DEN\n",
              "4  4  Edgar Lindenau Aabye     M   34   NA    NA     Denmark/Sweden DEN\n",
              "5  5  Christine Jacoba Aaftink F   21  185    82     Netherlands    NED\n",
              "6  5  Christine Jacoba Aaftink F   21  185    82     Netherlands    NED\n",
              "7  5  Christine Jacoba Aaftink F   25  185    82     Netherlands    NED\n",
              "8  5  Christine Jacoba Aaftink F   25  185    82     Netherlands    NED\n",
              "9  5  Christine Jacoba Aaftink F   27  185    82     Netherlands    NED\n",
              "10 5  Christine Jacoba Aaftink F   27  185    82     Netherlands    NED\n",
              "   Games       Year Season City        Sport        \n",
              "1  1992 Summer 1992 Summer Barcelona   Basketball   \n",
              "2  2012 Summer 2012 Summer London      Judo         \n",
              "3  1920 Summer 1920 Summer Antwerpen   Football     \n",
              "4  1900 Summer 1900 Summer Paris       Tug-Of-War   \n",
              "5  1988 Winter 1988 Winter Calgary     Speed Skating\n",
              "6  1988 Winter 1988 Winter Calgary     Speed Skating\n",
              "7  1992 Winter 1992 Winter Albertville Speed Skating\n",
              "8  1992 Winter 1992 Winter Albertville Speed Skating\n",
              "9  1994 Winter 1994 Winter Lillehammer Speed Skating\n",
              "10 1994 Winter 1994 Winter Lillehammer Speed Skating\n",
              "   Event                              Medal\n",
              "1  Basketball Men's Basketball        NA   \n",
              "2  Judo Men's Extra-Lightweight       NA   \n",
              "3  Football Men's Football            NA   \n",
              "4  Tug-Of-War Men's Tug-Of-War        Gold \n",
              "5  Speed Skating Women's 500 metres   NA   \n",
              "6  Speed Skating Women's 1,000 metres NA   \n",
              "7  Speed Skating Women's 500 metres   NA   \n",
              "8  Speed Skating Women's 1,000 metres NA   \n",
              "9  Speed Skating Women's 500 metres   NA   \n",
              "10 Speed Skating Women's 1,000 metres NA   "
            ]
          },
          "metadata": {}
        }
      ]
    },
    {
      "cell_type": "code",
      "source": [
        "nrow(Dataset)"
      ],
      "metadata": {
        "colab": {
          "base_uri": "https://localhost:8080/",
          "height": 34
        },
        "id": "mplGjE1kAFOz",
        "outputId": "a1c3d086-2597-428d-9aba-a8cdf0f42c2e"
      },
      "execution_count": null,
      "outputs": [
        {
          "output_type": "display_data",
          "data": {
            "text/html": [
              "34418"
            ],
            "text/markdown": "34418",
            "text/latex": "34418",
            "text/plain": [
              "[1] 34418"
            ]
          },
          "metadata": {}
        }
      ]
    },
    {
      "cell_type": "code",
      "source": [
        "ncol(Dataset)"
      ],
      "metadata": {
        "colab": {
          "base_uri": "https://localhost:8080/",
          "height": 34
        },
        "id": "6FjzXEQNDMf_",
        "outputId": "0ace8f07-08eb-42c4-c874-7402b31f738d"
      },
      "execution_count": null,
      "outputs": [
        {
          "output_type": "display_data",
          "data": {
            "text/html": [
              "15"
            ],
            "text/markdown": "15",
            "text/latex": "15",
            "text/plain": [
              "[1] 15"
            ]
          },
          "metadata": {}
        }
      ]
    },
    {
      "cell_type": "code",
      "source": [
        "unique(Dataset$City)"
      ],
      "metadata": {
        "colab": {
          "base_uri": "https://localhost:8080/",
          "height": 102
        },
        "id": "fMUFgUcxDSwO",
        "outputId": "f8617048-fdbd-4f69-a600-78d091929243"
      },
      "execution_count": null,
      "outputs": [
        {
          "output_type": "display_data",
          "data": {
            "text/html": [
              "<style>\n",
              ".list-inline {list-style: none; margin:0; padding: 0}\n",
              ".list-inline>li {display: inline-block}\n",
              ".list-inline>li:not(:last-child)::after {content: \"\\00b7\"; padding: 0 .5ex}\n",
              "</style>\n",
              "<ol class=list-inline><li>'Barcelona'</li><li>'London'</li><li>'Antwerpen'</li><li>'Paris'</li><li>'Calgary'</li><li>'Albertville'</li><li>'Lillehammer'</li><li>'Los Angeles'</li><li>'Salt Lake City'</li><li>'Helsinki'</li><li>'Lake Placid'</li><li>'Sydney'</li><li>'Atlanta'</li><li>'Stockholm'</li><li>'Sochi'</li><li>'Nagano'</li><li>'Torino'</li><li>'Beijing'</li><li>'Rio de Janeiro'</li><li>'Athina'</li><li>'Squaw Valley'</li><li>'Innsbruck'</li><li>'Sarajevo'</li><li>'Mexico City'</li><li>'Munich'</li><li>'Seoul'</li><li>'Berlin'</li><li>'Oslo'</li><li>'Cortina d\\'Ampezzo'</li><li>'Melbourne'</li><li>'Roma'</li><li>'Amsterdam'</li><li>'Montreal'</li><li>'Moskva'</li><li>'Tokyo'</li><li>'Vancouver'</li><li>'Grenoble'</li><li>'Sapporo'</li><li>'Chamonix'</li><li>'St. Louis'</li><li>'Sankt Moritz'</li><li>'Garmisch-Partenkirchen'</li><li>''</li></ol>\n"
            ],
            "text/markdown": "1. 'Barcelona'\n2. 'London'\n3. 'Antwerpen'\n4. 'Paris'\n5. 'Calgary'\n6. 'Albertville'\n7. 'Lillehammer'\n8. 'Los Angeles'\n9. 'Salt Lake City'\n10. 'Helsinki'\n11. 'Lake Placid'\n12. 'Sydney'\n13. 'Atlanta'\n14. 'Stockholm'\n15. 'Sochi'\n16. 'Nagano'\n17. 'Torino'\n18. 'Beijing'\n19. 'Rio de Janeiro'\n20. 'Athina'\n21. 'Squaw Valley'\n22. 'Innsbruck'\n23. 'Sarajevo'\n24. 'Mexico City'\n25. 'Munich'\n26. 'Seoul'\n27. 'Berlin'\n28. 'Oslo'\n29. 'Cortina d\\'Ampezzo'\n30. 'Melbourne'\n31. 'Roma'\n32. 'Amsterdam'\n33. 'Montreal'\n34. 'Moskva'\n35. 'Tokyo'\n36. 'Vancouver'\n37. 'Grenoble'\n38. 'Sapporo'\n39. 'Chamonix'\n40. 'St. Louis'\n41. 'Sankt Moritz'\n42. 'Garmisch-Partenkirchen'\n43. ''\n\n\n",
            "text/latex": "\\begin{enumerate*}\n\\item 'Barcelona'\n\\item 'London'\n\\item 'Antwerpen'\n\\item 'Paris'\n\\item 'Calgary'\n\\item 'Albertville'\n\\item 'Lillehammer'\n\\item 'Los Angeles'\n\\item 'Salt Lake City'\n\\item 'Helsinki'\n\\item 'Lake Placid'\n\\item 'Sydney'\n\\item 'Atlanta'\n\\item 'Stockholm'\n\\item 'Sochi'\n\\item 'Nagano'\n\\item 'Torino'\n\\item 'Beijing'\n\\item 'Rio de Janeiro'\n\\item 'Athina'\n\\item 'Squaw Valley'\n\\item 'Innsbruck'\n\\item 'Sarajevo'\n\\item 'Mexico City'\n\\item 'Munich'\n\\item 'Seoul'\n\\item 'Berlin'\n\\item 'Oslo'\n\\item 'Cortina d\\textbackslash{}'Ampezzo'\n\\item 'Melbourne'\n\\item 'Roma'\n\\item 'Amsterdam'\n\\item 'Montreal'\n\\item 'Moskva'\n\\item 'Tokyo'\n\\item 'Vancouver'\n\\item 'Grenoble'\n\\item 'Sapporo'\n\\item 'Chamonix'\n\\item 'St. Louis'\n\\item 'Sankt Moritz'\n\\item 'Garmisch-Partenkirchen'\n\\item ''\n\\end{enumerate*}\n",
            "text/plain": [
              " [1] \"Barcelona\"              \"London\"                 \"Antwerpen\"             \n",
              " [4] \"Paris\"                  \"Calgary\"                \"Albertville\"           \n",
              " [7] \"Lillehammer\"            \"Los Angeles\"            \"Salt Lake City\"        \n",
              "[10] \"Helsinki\"               \"Lake Placid\"            \"Sydney\"                \n",
              "[13] \"Atlanta\"                \"Stockholm\"              \"Sochi\"                 \n",
              "[16] \"Nagano\"                 \"Torino\"                 \"Beijing\"               \n",
              "[19] \"Rio de Janeiro\"         \"Athina\"                 \"Squaw Valley\"          \n",
              "[22] \"Innsbruck\"              \"Sarajevo\"               \"Mexico City\"           \n",
              "[25] \"Munich\"                 \"Seoul\"                  \"Berlin\"                \n",
              "[28] \"Oslo\"                   \"Cortina d'Ampezzo\"      \"Melbourne\"             \n",
              "[31] \"Roma\"                   \"Amsterdam\"              \"Montreal\"              \n",
              "[34] \"Moskva\"                 \"Tokyo\"                  \"Vancouver\"             \n",
              "[37] \"Grenoble\"               \"Sapporo\"                \"Chamonix\"              \n",
              "[40] \"St. Louis\"              \"Sankt Moritz\"           \"Garmisch-Partenkirchen\"\n",
              "[43] \"\"                      "
            ]
          },
          "metadata": {}
        }
      ]
    },
    {
      "cell_type": "markdown",
      "source": [
        "While choosing a Sponsor, my priority was to shortlist the most happening and vibrant city of USA as it is the parent country for manufacturing Kellogs and hence i go by choosing Los Angeles among the listed cities\n",
        "\n",
        "With the help of Unique function i could print all the cities in the dataset and choose one from it.\n"
      ],
      "metadata": {
        "id": "UMrLNaE1GNdB"
      }
    },
    {
      "cell_type": "code",
      "source": [
        "unique(Dataset$Sport)"
      ],
      "metadata": {
        "colab": {
          "base_uri": "https://localhost:8080/",
          "height": 170
        },
        "id": "vYRCHYd5DjyY",
        "outputId": "bd8c1bdc-0e6f-4787-f9da-4063455fbce3"
      },
      "execution_count": null,
      "outputs": [
        {
          "output_type": "display_data",
          "data": {
            "text/html": [
              "<style>\n",
              ".list-inline {list-style: none; margin:0; padding: 0}\n",
              ".list-inline>li {display: inline-block}\n",
              ".list-inline>li:not(:last-child)::after {content: \"\\00b7\"; padding: 0 .5ex}\n",
              "</style>\n",
              "<ol class=list-inline><li>'Basketball'</li><li>'Judo'</li><li>'Football'</li><li>'Tug-Of-War'</li><li>'Speed Skating'</li><li>'Cross Country Skiing'</li><li>'Athletics'</li><li>'Ice Hockey'</li><li>'Swimming'</li><li>'Badminton'</li><li>'Sailing'</li><li>'Biathlon'</li><li>'Gymnastics'</li><li>'Art Competitions'</li><li>'Alpine Skiing'</li><li>'Handball'</li><li>'Weightlifting'</li><li>'Wrestling'</li><li>'Luge'</li><li>'Water Polo'</li><li>'Hockey'</li><li>'Rowing'</li><li>'Bobsleigh'</li><li>'Fencing'</li><li>'Equestrianism'</li><li>'Shooting'</li><li>'Boxing'</li><li>'Taekwondo'</li><li>'Cycling'</li><li>'Diving'</li><li>'Canoeing'</li><li>'Tennis'</li><li>'Modern Pentathlon'</li><li>'Figure Skating'</li><li>'Golf'</li><li>'Softball'</li><li>'Archery'</li><li>'Volleyball'</li><li>'Synchronized Swimming'</li><li>'Table Tennis'</li><li>'Nordic Combined'</li><li>'Baseball'</li><li>'Rhythmic Gymnastics'</li><li>'Freestyle Skiing'</li><li>'Rugby Sevens'</li><li>'Trampolining'</li><li>'Beach Volleyball'</li><li>'Triathlon'</li><li>'Ski Jumping'</li><li>'Curling'</li><li>'Snowboarding'</li><li>'Rugby'</li><li>'Short Track Speed Skating'</li><li>'Skeleton'</li><li>'Lacrosse'</li><li>'Polo'</li><li>'Cricket'</li><li>'Racquets'</li><li>'Motorboating'</li><li>'Military Ski Patrol'</li><li>'Croquet'</li><li>'Jeu De Paume'</li><li>'Roque'</li><li>'Alpinism'</li><li>''</li></ol>\n"
            ],
            "text/markdown": "1. 'Basketball'\n2. 'Judo'\n3. 'Football'\n4. 'Tug-Of-War'\n5. 'Speed Skating'\n6. 'Cross Country Skiing'\n7. 'Athletics'\n8. 'Ice Hockey'\n9. 'Swimming'\n10. 'Badminton'\n11. 'Sailing'\n12. 'Biathlon'\n13. 'Gymnastics'\n14. 'Art Competitions'\n15. 'Alpine Skiing'\n16. 'Handball'\n17. 'Weightlifting'\n18. 'Wrestling'\n19. 'Luge'\n20. 'Water Polo'\n21. 'Hockey'\n22. 'Rowing'\n23. 'Bobsleigh'\n24. 'Fencing'\n25. 'Equestrianism'\n26. 'Shooting'\n27. 'Boxing'\n28. 'Taekwondo'\n29. 'Cycling'\n30. 'Diving'\n31. 'Canoeing'\n32. 'Tennis'\n33. 'Modern Pentathlon'\n34. 'Figure Skating'\n35. 'Golf'\n36. 'Softball'\n37. 'Archery'\n38. 'Volleyball'\n39. 'Synchronized Swimming'\n40. 'Table Tennis'\n41. 'Nordic Combined'\n42. 'Baseball'\n43. 'Rhythmic Gymnastics'\n44. 'Freestyle Skiing'\n45. 'Rugby Sevens'\n46. 'Trampolining'\n47. 'Beach Volleyball'\n48. 'Triathlon'\n49. 'Ski Jumping'\n50. 'Curling'\n51. 'Snowboarding'\n52. 'Rugby'\n53. 'Short Track Speed Skating'\n54. 'Skeleton'\n55. 'Lacrosse'\n56. 'Polo'\n57. 'Cricket'\n58. 'Racquets'\n59. 'Motorboating'\n60. 'Military Ski Patrol'\n61. 'Croquet'\n62. 'Jeu De Paume'\n63. 'Roque'\n64. 'Alpinism'\n65. ''\n\n\n",
            "text/latex": "\\begin{enumerate*}\n\\item 'Basketball'\n\\item 'Judo'\n\\item 'Football'\n\\item 'Tug-Of-War'\n\\item 'Speed Skating'\n\\item 'Cross Country Skiing'\n\\item 'Athletics'\n\\item 'Ice Hockey'\n\\item 'Swimming'\n\\item 'Badminton'\n\\item 'Sailing'\n\\item 'Biathlon'\n\\item 'Gymnastics'\n\\item 'Art Competitions'\n\\item 'Alpine Skiing'\n\\item 'Handball'\n\\item 'Weightlifting'\n\\item 'Wrestling'\n\\item 'Luge'\n\\item 'Water Polo'\n\\item 'Hockey'\n\\item 'Rowing'\n\\item 'Bobsleigh'\n\\item 'Fencing'\n\\item 'Equestrianism'\n\\item 'Shooting'\n\\item 'Boxing'\n\\item 'Taekwondo'\n\\item 'Cycling'\n\\item 'Diving'\n\\item 'Canoeing'\n\\item 'Tennis'\n\\item 'Modern Pentathlon'\n\\item 'Figure Skating'\n\\item 'Golf'\n\\item 'Softball'\n\\item 'Archery'\n\\item 'Volleyball'\n\\item 'Synchronized Swimming'\n\\item 'Table Tennis'\n\\item 'Nordic Combined'\n\\item 'Baseball'\n\\item 'Rhythmic Gymnastics'\n\\item 'Freestyle Skiing'\n\\item 'Rugby Sevens'\n\\item 'Trampolining'\n\\item 'Beach Volleyball'\n\\item 'Triathlon'\n\\item 'Ski Jumping'\n\\item 'Curling'\n\\item 'Snowboarding'\n\\item 'Rugby'\n\\item 'Short Track Speed Skating'\n\\item 'Skeleton'\n\\item 'Lacrosse'\n\\item 'Polo'\n\\item 'Cricket'\n\\item 'Racquets'\n\\item 'Motorboating'\n\\item 'Military Ski Patrol'\n\\item 'Croquet'\n\\item 'Jeu De Paume'\n\\item 'Roque'\n\\item 'Alpinism'\n\\item ''\n\\end{enumerate*}\n",
            "text/plain": [
              " [1] \"Basketball\"                \"Judo\"                     \n",
              " [3] \"Football\"                  \"Tug-Of-War\"               \n",
              " [5] \"Speed Skating\"             \"Cross Country Skiing\"     \n",
              " [7] \"Athletics\"                 \"Ice Hockey\"               \n",
              " [9] \"Swimming\"                  \"Badminton\"                \n",
              "[11] \"Sailing\"                   \"Biathlon\"                 \n",
              "[13] \"Gymnastics\"                \"Art Competitions\"         \n",
              "[15] \"Alpine Skiing\"             \"Handball\"                 \n",
              "[17] \"Weightlifting\"             \"Wrestling\"                \n",
              "[19] \"Luge\"                      \"Water Polo\"               \n",
              "[21] \"Hockey\"                    \"Rowing\"                   \n",
              "[23] \"Bobsleigh\"                 \"Fencing\"                  \n",
              "[25] \"Equestrianism\"             \"Shooting\"                 \n",
              "[27] \"Boxing\"                    \"Taekwondo\"                \n",
              "[29] \"Cycling\"                   \"Diving\"                   \n",
              "[31] \"Canoeing\"                  \"Tennis\"                   \n",
              "[33] \"Modern Pentathlon\"         \"Figure Skating\"           \n",
              "[35] \"Golf\"                      \"Softball\"                 \n",
              "[37] \"Archery\"                   \"Volleyball\"               \n",
              "[39] \"Synchronized Swimming\"     \"Table Tennis\"             \n",
              "[41] \"Nordic Combined\"           \"Baseball\"                 \n",
              "[43] \"Rhythmic Gymnastics\"       \"Freestyle Skiing\"         \n",
              "[45] \"Rugby Sevens\"              \"Trampolining\"             \n",
              "[47] \"Beach Volleyball\"          \"Triathlon\"                \n",
              "[49] \"Ski Jumping\"               \"Curling\"                  \n",
              "[51] \"Snowboarding\"              \"Rugby\"                    \n",
              "[53] \"Short Track Speed Skating\" \"Skeleton\"                 \n",
              "[55] \"Lacrosse\"                  \"Polo\"                     \n",
              "[57] \"Cricket\"                   \"Racquets\"                 \n",
              "[59] \"Motorboating\"              \"Military Ski Patrol\"      \n",
              "[61] \"Croquet\"                   \"Jeu De Paume\"             \n",
              "[63] \"Roque\"                     \"Alpinism\"                 \n",
              "[65] \"\"                         "
            ]
          },
          "metadata": {}
        }
      ]
    },
    {
      "cell_type": "markdown",
      "source": [
        "Here i printed all the sports available from the DataSet. Since i choose Los Angeles Athlete to be the ideal business partner, Athletics goes the sport without mentioning."
      ],
      "metadata": {
        "id": "QACqkFFfOAUM"
      }
    },
    {
      "cell_type": "markdown",
      "source": [
        "**One** **Colum** **Selection**"
      ],
      "metadata": {
        "id": "8pNpYMVAPS4_"
      }
    },
    {
      "cell_type": "code",
      "source": [
        "Dataset[order(Dataset$Weight, decreasing = T )[1:10],]"
      ],
      "metadata": {
        "colab": {
          "base_uri": "https://localhost:8080/",
          "height": 835
        },
        "id": "o7AQclA6PQ66",
        "outputId": "a088142e-0158-4f01-f9ac-21333dd91a3e"
      },
      "execution_count": null,
      "outputs": [
        {
          "output_type": "display_data",
          "data": {
            "text/html": [
              "<table class=\"dataframe\">\n",
              "<caption>A data.frame: 10 × 15</caption>\n",
              "<thead>\n",
              "\t<tr><th></th><th scope=col>ID</th><th scope=col>Name</th><th scope=col>Sex</th><th scope=col>Age</th><th scope=col>Height</th><th scope=col>Weight</th><th scope=col>Team</th><th scope=col>NOC</th><th scope=col>Games</th><th scope=col>Year</th><th scope=col>Season</th><th scope=col>City</th><th scope=col>Sport</th><th scope=col>Event</th><th scope=col>Medal</th></tr>\n",
              "\t<tr><th></th><th scope=col>&lt;int&gt;</th><th scope=col>&lt;chr&gt;</th><th scope=col>&lt;chr&gt;</th><th scope=col>&lt;int&gt;</th><th scope=col>&lt;int&gt;</th><th scope=col>&lt;dbl&gt;</th><th scope=col>&lt;chr&gt;</th><th scope=col>&lt;chr&gt;</th><th scope=col>&lt;chr&gt;</th><th scope=col>&lt;int&gt;</th><th scope=col>&lt;chr&gt;</th><th scope=col>&lt;chr&gt;</th><th scope=col>&lt;chr&gt;</th><th scope=col>&lt;chr&gt;</th><th scope=col>&lt;chr&gt;</th></tr>\n",
              "</thead>\n",
              "<tbody>\n",
              "\t<tr><th scope=row>23156</th><td>12177</td><td>Ricardo Blas, Jr.           </td><td>M</td><td>21</td><td>183</td><td>214</td><td>Guam        </td><td>GUM</td><td>2008 Summer</td><td>2008</td><td>Summer</td><td>Beijing       </td><td>Judo         </td><td>Judo Men's Heavyweight               </td><td>NA    </td></tr>\n",
              "\t<tr><th scope=row>23157</th><td>12177</td><td>Ricardo Blas, Jr.           </td><td>M</td><td>25</td><td>183</td><td>214</td><td>Guam        </td><td>GUM</td><td>2012 Summer</td><td>2012</td><td>Summer</td><td>London        </td><td>Judo         </td><td>Judo Men's Heavyweight               </td><td>NA    </td></tr>\n",
              "\t<tr><th scope=row>2179</th><td> 1215</td><td>Ernesto Agero Shell         </td><td>M</td><td>22</td><td> NA</td><td>163</td><td>Cuba        </td><td>CUB</td><td>1992 Summer</td><td>1992</td><td>Summer</td><td>Barcelona     </td><td>Weightlifting</td><td>Weightlifting Men's Super-Heavyweight</td><td>NA    </td></tr>\n",
              "\t<tr><th scope=row>4405</th><td> 2511</td><td>Vasily Ivanovich Alekseyev  </td><td>M</td><td>30</td><td>185</td><td>160</td><td>Soviet Union</td><td>URS</td><td>1972 Summer</td><td>1972</td><td>Summer</td><td>Munich        </td><td>Weightlifting</td><td>Weightlifting Men's Super-Heavyweight</td><td>Gold  </td></tr>\n",
              "\t<tr><th scope=row>4406</th><td> 2511</td><td>Vasily Ivanovich Alekseyev  </td><td>M</td><td>34</td><td>185</td><td>160</td><td>Soviet Union</td><td>URS</td><td>1976 Summer</td><td>1976</td><td>Summer</td><td>Montreal      </td><td>Weightlifting</td><td>Weightlifting Men's Super-Heavyweight</td><td>Gold  </td></tr>\n",
              "\t<tr><th scope=row>4407</th><td> 2511</td><td>Vasily Ivanovich Alekseyev  </td><td>M</td><td>38</td><td>185</td><td>160</td><td>Soviet Union</td><td>URS</td><td>1980 Summer</td><td>1980</td><td>Summer</td><td>Moskva        </td><td>Weightlifting</td><td>Weightlifting Men's Super-Heavyweight</td><td>NA    </td></tr>\n",
              "\t<tr><th scope=row>4002</th><td> 2306</td><td>Ruslan Vladimirovich Albegov</td><td>M</td><td>24</td><td>192</td><td>156</td><td>Russia      </td><td>RUS</td><td>2012 Summer</td><td>2012</td><td>Summer</td><td>London        </td><td>Weightlifting</td><td>Weightlifting Men's Super-Heavyweight</td><td>Bronze</td></tr>\n",
              "\t<tr><th scope=row>9462</th><td> 5191</td><td>Tsanko Rosenov Arnaudov     </td><td>M</td><td>24</td><td>198</td><td>155</td><td>Portugal    </td><td>POR</td><td>2016 Summer</td><td>2016</td><td>Summer</td><td>Rio de Janeiro</td><td>Athletics    </td><td>Athletics Men's Shot Put             </td><td>NA    </td></tr>\n",
              "\t<tr><th scope=row>4386</th><td> 2499</td><td>Ruben Aleksanyan            </td><td>M</td><td>26</td><td>180</td><td>150</td><td>Armenia     </td><td>ARM</td><td>2016 Summer</td><td>2016</td><td>Summer</td><td>Rio de Janeiro</td><td>Weightlifting</td><td>Weightlifting Men's Super-Heavyweight</td><td>NA    </td></tr>\n",
              "\t<tr><th scope=row>29956</th><td>15458</td><td>Yves Brouzet                </td><td>M</td><td>23</td><td>198</td><td>150</td><td>France      </td><td>FRA</td><td>1972 Summer</td><td>1972</td><td>Summer</td><td>Munich        </td><td>Athletics    </td><td>Athletics Men's Shot Put             </td><td>NA    </td></tr>\n",
              "</tbody>\n",
              "</table>\n"
            ],
            "text/markdown": "\nA data.frame: 10 × 15\n\n| <!--/--> | ID &lt;int&gt; | Name &lt;chr&gt; | Sex &lt;chr&gt; | Age &lt;int&gt; | Height &lt;int&gt; | Weight &lt;dbl&gt; | Team &lt;chr&gt; | NOC &lt;chr&gt; | Games &lt;chr&gt; | Year &lt;int&gt; | Season &lt;chr&gt; | City &lt;chr&gt; | Sport &lt;chr&gt; | Event &lt;chr&gt; | Medal &lt;chr&gt; |\n|---|---|---|---|---|---|---|---|---|---|---|---|---|---|---|---|\n| 23156 | 12177 | Ricardo Blas, Jr.            | M | 21 | 183 | 214 | Guam         | GUM | 2008 Summer | 2008 | Summer | Beijing        | Judo          | Judo Men's Heavyweight                | NA     |\n| 23157 | 12177 | Ricardo Blas, Jr.            | M | 25 | 183 | 214 | Guam         | GUM | 2012 Summer | 2012 | Summer | London         | Judo          | Judo Men's Heavyweight                | NA     |\n| 2179 |  1215 | Ernesto Agero Shell          | M | 22 |  NA | 163 | Cuba         | CUB | 1992 Summer | 1992 | Summer | Barcelona      | Weightlifting | Weightlifting Men's Super-Heavyweight | NA     |\n| 4405 |  2511 | Vasily Ivanovich Alekseyev   | M | 30 | 185 | 160 | Soviet Union | URS | 1972 Summer | 1972 | Summer | Munich         | Weightlifting | Weightlifting Men's Super-Heavyweight | Gold   |\n| 4406 |  2511 | Vasily Ivanovich Alekseyev   | M | 34 | 185 | 160 | Soviet Union | URS | 1976 Summer | 1976 | Summer | Montreal       | Weightlifting | Weightlifting Men's Super-Heavyweight | Gold   |\n| 4407 |  2511 | Vasily Ivanovich Alekseyev   | M | 38 | 185 | 160 | Soviet Union | URS | 1980 Summer | 1980 | Summer | Moskva         | Weightlifting | Weightlifting Men's Super-Heavyweight | NA     |\n| 4002 |  2306 | Ruslan Vladimirovich Albegov | M | 24 | 192 | 156 | Russia       | RUS | 2012 Summer | 2012 | Summer | London         | Weightlifting | Weightlifting Men's Super-Heavyweight | Bronze |\n| 9462 |  5191 | Tsanko Rosenov Arnaudov      | M | 24 | 198 | 155 | Portugal     | POR | 2016 Summer | 2016 | Summer | Rio de Janeiro | Athletics     | Athletics Men's Shot Put              | NA     |\n| 4386 |  2499 | Ruben Aleksanyan             | M | 26 | 180 | 150 | Armenia      | ARM | 2016 Summer | 2016 | Summer | Rio de Janeiro | Weightlifting | Weightlifting Men's Super-Heavyweight | NA     |\n| 29956 | 15458 | Yves Brouzet                 | M | 23 | 198 | 150 | France       | FRA | 1972 Summer | 1972 | Summer | Munich         | Athletics     | Athletics Men's Shot Put              | NA     |\n\n",
            "text/latex": "A data.frame: 10 × 15\n\\begin{tabular}{r|lllllllllllllll}\n  & ID & Name & Sex & Age & Height & Weight & Team & NOC & Games & Year & Season & City & Sport & Event & Medal\\\\\n  & <int> & <chr> & <chr> & <int> & <int> & <dbl> & <chr> & <chr> & <chr> & <int> & <chr> & <chr> & <chr> & <chr> & <chr>\\\\\n\\hline\n\t23156 & 12177 & Ricardo Blas, Jr.            & M & 21 & 183 & 214 & Guam         & GUM & 2008 Summer & 2008 & Summer & Beijing        & Judo          & Judo Men's Heavyweight                & NA    \\\\\n\t23157 & 12177 & Ricardo Blas, Jr.            & M & 25 & 183 & 214 & Guam         & GUM & 2012 Summer & 2012 & Summer & London         & Judo          & Judo Men's Heavyweight                & NA    \\\\\n\t2179 &  1215 & Ernesto Agero Shell          & M & 22 &  NA & 163 & Cuba         & CUB & 1992 Summer & 1992 & Summer & Barcelona      & Weightlifting & Weightlifting Men's Super-Heavyweight & NA    \\\\\n\t4405 &  2511 & Vasily Ivanovich Alekseyev   & M & 30 & 185 & 160 & Soviet Union & URS & 1972 Summer & 1972 & Summer & Munich         & Weightlifting & Weightlifting Men's Super-Heavyweight & Gold  \\\\\n\t4406 &  2511 & Vasily Ivanovich Alekseyev   & M & 34 & 185 & 160 & Soviet Union & URS & 1976 Summer & 1976 & Summer & Montreal       & Weightlifting & Weightlifting Men's Super-Heavyweight & Gold  \\\\\n\t4407 &  2511 & Vasily Ivanovich Alekseyev   & M & 38 & 185 & 160 & Soviet Union & URS & 1980 Summer & 1980 & Summer & Moskva         & Weightlifting & Weightlifting Men's Super-Heavyweight & NA    \\\\\n\t4002 &  2306 & Ruslan Vladimirovich Albegov & M & 24 & 192 & 156 & Russia       & RUS & 2012 Summer & 2012 & Summer & London         & Weightlifting & Weightlifting Men's Super-Heavyweight & Bronze\\\\\n\t9462 &  5191 & Tsanko Rosenov Arnaudov      & M & 24 & 198 & 155 & Portugal     & POR & 2016 Summer & 2016 & Summer & Rio de Janeiro & Athletics     & Athletics Men's Shot Put              & NA    \\\\\n\t4386 &  2499 & Ruben Aleksanyan             & M & 26 & 180 & 150 & Armenia      & ARM & 2016 Summer & 2016 & Summer & Rio de Janeiro & Weightlifting & Weightlifting Men's Super-Heavyweight & NA    \\\\\n\t29956 & 15458 & Yves Brouzet                 & M & 23 & 198 & 150 & France       & FRA & 1972 Summer & 1972 & Summer & Munich         & Athletics     & Athletics Men's Shot Put              & NA    \\\\\n\\end{tabular}\n",
            "text/plain": [
              "      ID    Name                         Sex Age Height Weight Team         NOC\n",
              "23156 12177 Ricardo Blas, Jr.            M   21  183    214    Guam         GUM\n",
              "23157 12177 Ricardo Blas, Jr.            M   25  183    214    Guam         GUM\n",
              "2179   1215 Ernesto Agero Shell          M   22   NA    163    Cuba         CUB\n",
              "4405   2511 Vasily Ivanovich Alekseyev   M   30  185    160    Soviet Union URS\n",
              "4406   2511 Vasily Ivanovich Alekseyev   M   34  185    160    Soviet Union URS\n",
              "4407   2511 Vasily Ivanovich Alekseyev   M   38  185    160    Soviet Union URS\n",
              "4002   2306 Ruslan Vladimirovich Albegov M   24  192    156    Russia       RUS\n",
              "9462   5191 Tsanko Rosenov Arnaudov      M   24  198    155    Portugal     POR\n",
              "4386   2499 Ruben Aleksanyan             M   26  180    150    Armenia      ARM\n",
              "29956 15458 Yves Brouzet                 M   23  198    150    France       FRA\n",
              "      Games       Year Season City           Sport        \n",
              "23156 2008 Summer 2008 Summer Beijing        Judo         \n",
              "23157 2012 Summer 2012 Summer London         Judo         \n",
              "2179  1992 Summer 1992 Summer Barcelona      Weightlifting\n",
              "4405  1972 Summer 1972 Summer Munich         Weightlifting\n",
              "4406  1976 Summer 1976 Summer Montreal       Weightlifting\n",
              "4407  1980 Summer 1980 Summer Moskva         Weightlifting\n",
              "4002  2012 Summer 2012 Summer London         Weightlifting\n",
              "9462  2016 Summer 2016 Summer Rio de Janeiro Athletics    \n",
              "4386  2016 Summer 2016 Summer Rio de Janeiro Weightlifting\n",
              "29956 1972 Summer 1972 Summer Munich         Athletics    \n",
              "      Event                                 Medal \n",
              "23156 Judo Men's Heavyweight                NA    \n",
              "23157 Judo Men's Heavyweight                NA    \n",
              "2179  Weightlifting Men's Super-Heavyweight NA    \n",
              "4405  Weightlifting Men's Super-Heavyweight Gold  \n",
              "4406  Weightlifting Men's Super-Heavyweight Gold  \n",
              "4407  Weightlifting Men's Super-Heavyweight NA    \n",
              "4002  Weightlifting Men's Super-Heavyweight Bronze\n",
              "9462  Athletics Men's Shot Put              NA    \n",
              "4386  Weightlifting Men's Super-Heavyweight NA    \n",
              "29956 Athletics Men's Shot Put              NA    "
            ]
          },
          "metadata": {}
        }
      ]
    },
    {
      "cell_type": "markdown",
      "source": [
        "Here in the above attempt in the code, i performed one column selection on the Weight Category.\n",
        "From the Analysis it is found that the largest weight of a player is 214 lbs. Kellogs can be consumed by any sport player irrespective of their weight."
      ],
      "metadata": {
        "id": "mONSpmTdTFm1"
      }
    },
    {
      "cell_type": "markdown",
      "source": [
        "**SERIES**:- **bold text**"
      ],
      "metadata": {
        "id": "_V-VDmCBWNSz"
      }
    },
    {
      "cell_type": "code",
      "source": [
        "Dataset[,c('Name','Sex','Team','Sport','Medal')]"
      ],
      "metadata": {
        "colab": {
          "base_uri": "https://localhost:8080/",
          "height": 1000
        },
        "id": "6q2JliERWEeI",
        "outputId": "0135a0be-6be8-49d8-ec33-136c0a6ff3f3"
      },
      "execution_count": null,
      "outputs": [
        {
          "output_type": "display_data",
          "data": {
            "text/html": [
              "<table class=\"dataframe\">\n",
              "<caption>A data.frame: 34418 × 5</caption>\n",
              "<thead>\n",
              "\t<tr><th scope=col>Name</th><th scope=col>Sex</th><th scope=col>Team</th><th scope=col>Sport</th><th scope=col>Medal</th></tr>\n",
              "\t<tr><th scope=col>&lt;chr&gt;</th><th scope=col>&lt;chr&gt;</th><th scope=col>&lt;chr&gt;</th><th scope=col>&lt;chr&gt;</th><th scope=col>&lt;chr&gt;</th></tr>\n",
              "</thead>\n",
              "<tbody>\n",
              "\t<tr><td>A Dijiang                         </td><td>M</td><td>China         </td><td>Basketball          </td><td>NA  </td></tr>\n",
              "\t<tr><td>A Lamusi                          </td><td>M</td><td>China         </td><td>Judo                </td><td>NA  </td></tr>\n",
              "\t<tr><td>Gunnar Nielsen Aaby               </td><td>M</td><td>Denmark       </td><td>Football            </td><td>NA  </td></tr>\n",
              "\t<tr><td>Edgar Lindenau Aabye              </td><td>M</td><td>Denmark/Sweden</td><td>Tug-Of-War          </td><td>Gold</td></tr>\n",
              "\t<tr><td>Christine Jacoba Aaftink          </td><td>F</td><td>Netherlands   </td><td>Speed Skating       </td><td>NA  </td></tr>\n",
              "\t<tr><td>Christine Jacoba Aaftink          </td><td>F</td><td>Netherlands   </td><td>Speed Skating       </td><td>NA  </td></tr>\n",
              "\t<tr><td>Christine Jacoba Aaftink          </td><td>F</td><td>Netherlands   </td><td>Speed Skating       </td><td>NA  </td></tr>\n",
              "\t<tr><td>Christine Jacoba Aaftink          </td><td>F</td><td>Netherlands   </td><td>Speed Skating       </td><td>NA  </td></tr>\n",
              "\t<tr><td>Christine Jacoba Aaftink          </td><td>F</td><td>Netherlands   </td><td>Speed Skating       </td><td>NA  </td></tr>\n",
              "\t<tr><td>Christine Jacoba Aaftink          </td><td>F</td><td>Netherlands   </td><td>Speed Skating       </td><td>NA  </td></tr>\n",
              "\t<tr><td>Per Knut Aaland                   </td><td>M</td><td>United States </td><td>Cross Country Skiing</td><td>NA  </td></tr>\n",
              "\t<tr><td>Per Knut Aaland                   </td><td>M</td><td>United States </td><td>Cross Country Skiing</td><td>NA  </td></tr>\n",
              "\t<tr><td>Per Knut Aaland                   </td><td>M</td><td>United States </td><td>Cross Country Skiing</td><td>NA  </td></tr>\n",
              "\t<tr><td>Per Knut Aaland                   </td><td>M</td><td>United States </td><td>Cross Country Skiing</td><td>NA  </td></tr>\n",
              "\t<tr><td>Per Knut Aaland                   </td><td>M</td><td>United States </td><td>Cross Country Skiing</td><td>NA  </td></tr>\n",
              "\t<tr><td>Per Knut Aaland                   </td><td>M</td><td>United States </td><td>Cross Country Skiing</td><td>NA  </td></tr>\n",
              "\t<tr><td>Per Knut Aaland                   </td><td>M</td><td>United States </td><td>Cross Country Skiing</td><td>NA  </td></tr>\n",
              "\t<tr><td>Per Knut Aaland                   </td><td>M</td><td>United States </td><td>Cross Country Skiing</td><td>NA  </td></tr>\n",
              "\t<tr><td>John Aalberg                      </td><td>M</td><td>United States </td><td>Cross Country Skiing</td><td>NA  </td></tr>\n",
              "\t<tr><td>John Aalberg                      </td><td>M</td><td>United States </td><td>Cross Country Skiing</td><td>NA  </td></tr>\n",
              "\t<tr><td>John Aalberg                      </td><td>M</td><td>United States </td><td>Cross Country Skiing</td><td>NA  </td></tr>\n",
              "\t<tr><td>John Aalberg                      </td><td>M</td><td>United States </td><td>Cross Country Skiing</td><td>NA  </td></tr>\n",
              "\t<tr><td>John Aalberg                      </td><td>M</td><td>United States </td><td>Cross Country Skiing</td><td>NA  </td></tr>\n",
              "\t<tr><td>John Aalberg                      </td><td>M</td><td>United States </td><td>Cross Country Skiing</td><td>NA  </td></tr>\n",
              "\t<tr><td>John Aalberg                      </td><td>M</td><td>United States </td><td>Cross Country Skiing</td><td>NA  </td></tr>\n",
              "\t<tr><td>John Aalberg                      </td><td>M</td><td>United States </td><td>Cross Country Skiing</td><td>NA  </td></tr>\n",
              "\t<tr><td>Cornelia \"Cor\" Aalten (-Strannood)</td><td>F</td><td>Netherlands   </td><td>Athletics           </td><td>NA  </td></tr>\n",
              "\t<tr><td>Cornelia \"Cor\" Aalten (-Strannood)</td><td>F</td><td>Netherlands   </td><td>Athletics           </td><td>NA  </td></tr>\n",
              "\t<tr><td>Antti Sami Aalto                  </td><td>M</td><td>Finland       </td><td>Ice Hockey          </td><td>NA  </td></tr>\n",
              "\t<tr><td>Einar Ferdinand \"Einari\" Aalto    </td><td>M</td><td>Finland       </td><td>Swimming            </td><td>NA  </td></tr>\n",
              "\t<tr><td>⋮</td><td>⋮</td><td>⋮</td><td>⋮</td><td>⋮</td></tr>\n",
              "\t<tr><td>Juliet Jean Campbell   </td><td>F</td><td>Jamaica      </td><td>Athletics </td><td>NA  </td></tr>\n",
              "\t<tr><td>Juliet Jean Campbell   </td><td>F</td><td>Jamaica      </td><td>Athletics </td><td>NA  </td></tr>\n",
              "\t<tr><td>Juliet Jean Campbell   </td><td>F</td><td>Jamaica      </td><td>Athletics </td><td>NA  </td></tr>\n",
              "\t<tr><td>Juliet Jean Campbell   </td><td>F</td><td>Jamaica      </td><td>Athletics </td><td>NA  </td></tr>\n",
              "\t<tr><td>Juliet Jean Campbell   </td><td>F</td><td>Jamaica      </td><td>Athletics </td><td>NA  </td></tr>\n",
              "\t<tr><td>Kelsey Rene Campbell   </td><td>F</td><td>United States</td><td>Wrestling </td><td>NA  </td></tr>\n",
              "\t<tr><td>Kemoy Campbell         </td><td>M</td><td>Jamaica      </td><td>Athletics </td><td>NA  </td></tr>\n",
              "\t<tr><td>Kenneth \"Ken\" Campbell </td><td>M</td><td>Canada       </td><td>Swimming  </td><td>NA  </td></tr>\n",
              "\t<tr><td>Kenneth \"Ken\" Campbell </td><td>M</td><td>Canada       </td><td>Swimming  </td><td>NA  </td></tr>\n",
              "\t<tr><td>Kenneth Campbell       </td><td>M</td><td>Jamaica      </td><td>Boxing    </td><td>NA  </td></tr>\n",
              "\t<tr><td>Lisa Jayne Campbell    </td><td>F</td><td>Australia    </td><td>Badminton </td><td>NA  </td></tr>\n",
              "\t<tr><td>Lisa Jayne Campbell    </td><td>F</td><td>Australia-2  </td><td>Badminton </td><td>NA  </td></tr>\n",
              "\t<tr><td>Logan Campbell         </td><td>M</td><td>New Zealand  </td><td>Taekwondo </td><td>NA  </td></tr>\n",
              "\t<tr><td>Logan Campbell         </td><td>M</td><td>New Zealand  </td><td>Taekwondo </td><td>NA  </td></tr>\n",
              "\t<tr><td>Luke Campbell          </td><td>M</td><td>Australia    </td><td>Volleyball</td><td>NA  </td></tr>\n",
              "\t<tr><td>Luke Campbell          </td><td>M</td><td>Great Britain</td><td>Boxing    </td><td>Gold</td></tr>\n",
              "\t<tr><td>Madeleine Anne Campbell</td><td>F</td><td>Great Britain</td><td>Swimming  </td><td>NA  </td></tr>\n",
              "\t<tr><td>Madeleine Anne Campbell</td><td>F</td><td>Great Britain</td><td>Swimming  </td><td>NA  </td></tr>\n",
              "\t<tr><td>Marvin Julian Campbell </td><td>M</td><td>Great Britain</td><td>Gymnastics</td><td>NA  </td></tr>\n",
              "\t<tr><td>Marvin Julian Campbell </td><td>M</td><td>Great Britain</td><td>Gymnastics</td><td>NA  </td></tr>\n",
              "\t<tr><td>Marvin Julian Campbell </td><td>M</td><td>Great Britain</td><td>Gymnastics</td><td>NA  </td></tr>\n",
              "\t<tr><td>Marvin Julian Campbell </td><td>M</td><td>Great Britain</td><td>Gymnastics</td><td>NA  </td></tr>\n",
              "\t<tr><td>Marvin Julian Campbell </td><td>M</td><td>Great Britain</td><td>Gymnastics</td><td>NA  </td></tr>\n",
              "\t<tr><td>Marvin Julian Campbell </td><td>M</td><td>Great Britain</td><td>Gymnastics</td><td>NA  </td></tr>\n",
              "\t<tr><td>Marvin Julian Campbell </td><td>M</td><td>Great Britain</td><td>Gymnastics</td><td>NA  </td></tr>\n",
              "\t<tr><td>Marvin Julian Campbell </td><td>M</td><td>Great Britain</td><td>Gymnastics</td><td>NA  </td></tr>\n",
              "\t<tr><td>Walter Menzies Campbell</td><td>M</td><td>Great Britain</td><td>Athletics </td><td>NA  </td></tr>\n",
              "\t<tr><td>Walter Menzies Campbell</td><td>M</td><td>Great Britain</td><td>Athletics </td><td>NA  </td></tr>\n",
              "\t<tr><td>Michael Campbell       </td><td>M</td><td>Jamaica      </td><td>Athletics </td><td>NA  </td></tr>\n",
              "\t<tr><td>Milton Gray \"Mi        </td><td> </td><td>             </td><td>          </td><td>    </td></tr>\n",
              "</tbody>\n",
              "</table>\n"
            ],
            "text/markdown": "\nA data.frame: 34418 × 5\n\n| Name &lt;chr&gt; | Sex &lt;chr&gt; | Team &lt;chr&gt; | Sport &lt;chr&gt; | Medal &lt;chr&gt; |\n|---|---|---|---|---|\n| A Dijiang                          | M | China          | Basketball           | NA   |\n| A Lamusi                           | M | China          | Judo                 | NA   |\n| Gunnar Nielsen Aaby                | M | Denmark        | Football             | NA   |\n| Edgar Lindenau Aabye               | M | Denmark/Sweden | Tug-Of-War           | Gold |\n| Christine Jacoba Aaftink           | F | Netherlands    | Speed Skating        | NA   |\n| Christine Jacoba Aaftink           | F | Netherlands    | Speed Skating        | NA   |\n| Christine Jacoba Aaftink           | F | Netherlands    | Speed Skating        | NA   |\n| Christine Jacoba Aaftink           | F | Netherlands    | Speed Skating        | NA   |\n| Christine Jacoba Aaftink           | F | Netherlands    | Speed Skating        | NA   |\n| Christine Jacoba Aaftink           | F | Netherlands    | Speed Skating        | NA   |\n| Per Knut Aaland                    | M | United States  | Cross Country Skiing | NA   |\n| Per Knut Aaland                    | M | United States  | Cross Country Skiing | NA   |\n| Per Knut Aaland                    | M | United States  | Cross Country Skiing | NA   |\n| Per Knut Aaland                    | M | United States  | Cross Country Skiing | NA   |\n| Per Knut Aaland                    | M | United States  | Cross Country Skiing | NA   |\n| Per Knut Aaland                    | M | United States  | Cross Country Skiing | NA   |\n| Per Knut Aaland                    | M | United States  | Cross Country Skiing | NA   |\n| Per Knut Aaland                    | M | United States  | Cross Country Skiing | NA   |\n| John Aalberg                       | M | United States  | Cross Country Skiing | NA   |\n| John Aalberg                       | M | United States  | Cross Country Skiing | NA   |\n| John Aalberg                       | M | United States  | Cross Country Skiing | NA   |\n| John Aalberg                       | M | United States  | Cross Country Skiing | NA   |\n| John Aalberg                       | M | United States  | Cross Country Skiing | NA   |\n| John Aalberg                       | M | United States  | Cross Country Skiing | NA   |\n| John Aalberg                       | M | United States  | Cross Country Skiing | NA   |\n| John Aalberg                       | M | United States  | Cross Country Skiing | NA   |\n| Cornelia \"Cor\" Aalten (-Strannood) | F | Netherlands    | Athletics            | NA   |\n| Cornelia \"Cor\" Aalten (-Strannood) | F | Netherlands    | Athletics            | NA   |\n| Antti Sami Aalto                   | M | Finland        | Ice Hockey           | NA   |\n| Einar Ferdinand \"Einari\" Aalto     | M | Finland        | Swimming             | NA   |\n| ⋮ | ⋮ | ⋮ | ⋮ | ⋮ |\n| Juliet Jean Campbell    | F | Jamaica       | Athletics  | NA   |\n| Juliet Jean Campbell    | F | Jamaica       | Athletics  | NA   |\n| Juliet Jean Campbell    | F | Jamaica       | Athletics  | NA   |\n| Juliet Jean Campbell    | F | Jamaica       | Athletics  | NA   |\n| Juliet Jean Campbell    | F | Jamaica       | Athletics  | NA   |\n| Kelsey Rene Campbell    | F | United States | Wrestling  | NA   |\n| Kemoy Campbell          | M | Jamaica       | Athletics  | NA   |\n| Kenneth \"Ken\" Campbell  | M | Canada        | Swimming   | NA   |\n| Kenneth \"Ken\" Campbell  | M | Canada        | Swimming   | NA   |\n| Kenneth Campbell        | M | Jamaica       | Boxing     | NA   |\n| Lisa Jayne Campbell     | F | Australia     | Badminton  | NA   |\n| Lisa Jayne Campbell     | F | Australia-2   | Badminton  | NA   |\n| Logan Campbell          | M | New Zealand   | Taekwondo  | NA   |\n| Logan Campbell          | M | New Zealand   | Taekwondo  | NA   |\n| Luke Campbell           | M | Australia     | Volleyball | NA   |\n| Luke Campbell           | M | Great Britain | Boxing     | Gold |\n| Madeleine Anne Campbell | F | Great Britain | Swimming   | NA   |\n| Madeleine Anne Campbell | F | Great Britain | Swimming   | NA   |\n| Marvin Julian Campbell  | M | Great Britain | Gymnastics | NA   |\n| Marvin Julian Campbell  | M | Great Britain | Gymnastics | NA   |\n| Marvin Julian Campbell  | M | Great Britain | Gymnastics | NA   |\n| Marvin Julian Campbell  | M | Great Britain | Gymnastics | NA   |\n| Marvin Julian Campbell  | M | Great Britain | Gymnastics | NA   |\n| Marvin Julian Campbell  | M | Great Britain | Gymnastics | NA   |\n| Marvin Julian Campbell  | M | Great Britain | Gymnastics | NA   |\n| Marvin Julian Campbell  | M | Great Britain | Gymnastics | NA   |\n| Walter Menzies Campbell | M | Great Britain | Athletics  | NA   |\n| Walter Menzies Campbell | M | Great Britain | Athletics  | NA   |\n| Michael Campbell        | M | Jamaica       | Athletics  | NA   |\n| Milton Gray \"Mi         | <!----> | <!----> | <!----> | <!----> |\n\n",
            "text/latex": "A data.frame: 34418 × 5\n\\begin{tabular}{lllll}\n Name & Sex & Team & Sport & Medal\\\\\n <chr> & <chr> & <chr> & <chr> & <chr>\\\\\n\\hline\n\t A Dijiang                          & M & China          & Basketball           & NA  \\\\\n\t A Lamusi                           & M & China          & Judo                 & NA  \\\\\n\t Gunnar Nielsen Aaby                & M & Denmark        & Football             & NA  \\\\\n\t Edgar Lindenau Aabye               & M & Denmark/Sweden & Tug-Of-War           & Gold\\\\\n\t Christine Jacoba Aaftink           & F & Netherlands    & Speed Skating        & NA  \\\\\n\t Christine Jacoba Aaftink           & F & Netherlands    & Speed Skating        & NA  \\\\\n\t Christine Jacoba Aaftink           & F & Netherlands    & Speed Skating        & NA  \\\\\n\t Christine Jacoba Aaftink           & F & Netherlands    & Speed Skating        & NA  \\\\\n\t Christine Jacoba Aaftink           & F & Netherlands    & Speed Skating        & NA  \\\\\n\t Christine Jacoba Aaftink           & F & Netherlands    & Speed Skating        & NA  \\\\\n\t Per Knut Aaland                    & M & United States  & Cross Country Skiing & NA  \\\\\n\t Per Knut Aaland                    & M & United States  & Cross Country Skiing & NA  \\\\\n\t Per Knut Aaland                    & M & United States  & Cross Country Skiing & NA  \\\\\n\t Per Knut Aaland                    & M & United States  & Cross Country Skiing & NA  \\\\\n\t Per Knut Aaland                    & M & United States  & Cross Country Skiing & NA  \\\\\n\t Per Knut Aaland                    & M & United States  & Cross Country Skiing & NA  \\\\\n\t Per Knut Aaland                    & M & United States  & Cross Country Skiing & NA  \\\\\n\t Per Knut Aaland                    & M & United States  & Cross Country Skiing & NA  \\\\\n\t John Aalberg                       & M & United States  & Cross Country Skiing & NA  \\\\\n\t John Aalberg                       & M & United States  & Cross Country Skiing & NA  \\\\\n\t John Aalberg                       & M & United States  & Cross Country Skiing & NA  \\\\\n\t John Aalberg                       & M & United States  & Cross Country Skiing & NA  \\\\\n\t John Aalberg                       & M & United States  & Cross Country Skiing & NA  \\\\\n\t John Aalberg                       & M & United States  & Cross Country Skiing & NA  \\\\\n\t John Aalberg                       & M & United States  & Cross Country Skiing & NA  \\\\\n\t John Aalberg                       & M & United States  & Cross Country Skiing & NA  \\\\\n\t Cornelia \"Cor\" Aalten (-Strannood) & F & Netherlands    & Athletics            & NA  \\\\\n\t Cornelia \"Cor\" Aalten (-Strannood) & F & Netherlands    & Athletics            & NA  \\\\\n\t Antti Sami Aalto                   & M & Finland        & Ice Hockey           & NA  \\\\\n\t Einar Ferdinand \"Einari\" Aalto     & M & Finland        & Swimming             & NA  \\\\\n\t ⋮ & ⋮ & ⋮ & ⋮ & ⋮\\\\\n\t Juliet Jean Campbell    & F & Jamaica       & Athletics  & NA  \\\\\n\t Juliet Jean Campbell    & F & Jamaica       & Athletics  & NA  \\\\\n\t Juliet Jean Campbell    & F & Jamaica       & Athletics  & NA  \\\\\n\t Juliet Jean Campbell    & F & Jamaica       & Athletics  & NA  \\\\\n\t Juliet Jean Campbell    & F & Jamaica       & Athletics  & NA  \\\\\n\t Kelsey Rene Campbell    & F & United States & Wrestling  & NA  \\\\\n\t Kemoy Campbell          & M & Jamaica       & Athletics  & NA  \\\\\n\t Kenneth \"Ken\" Campbell  & M & Canada        & Swimming   & NA  \\\\\n\t Kenneth \"Ken\" Campbell  & M & Canada        & Swimming   & NA  \\\\\n\t Kenneth Campbell        & M & Jamaica       & Boxing     & NA  \\\\\n\t Lisa Jayne Campbell     & F & Australia     & Badminton  & NA  \\\\\n\t Lisa Jayne Campbell     & F & Australia-2   & Badminton  & NA  \\\\\n\t Logan Campbell          & M & New Zealand   & Taekwondo  & NA  \\\\\n\t Logan Campbell          & M & New Zealand   & Taekwondo  & NA  \\\\\n\t Luke Campbell           & M & Australia     & Volleyball & NA  \\\\\n\t Luke Campbell           & M & Great Britain & Boxing     & Gold\\\\\n\t Madeleine Anne Campbell & F & Great Britain & Swimming   & NA  \\\\\n\t Madeleine Anne Campbell & F & Great Britain & Swimming   & NA  \\\\\n\t Marvin Julian Campbell  & M & Great Britain & Gymnastics & NA  \\\\\n\t Marvin Julian Campbell  & M & Great Britain & Gymnastics & NA  \\\\\n\t Marvin Julian Campbell  & M & Great Britain & Gymnastics & NA  \\\\\n\t Marvin Julian Campbell  & M & Great Britain & Gymnastics & NA  \\\\\n\t Marvin Julian Campbell  & M & Great Britain & Gymnastics & NA  \\\\\n\t Marvin Julian Campbell  & M & Great Britain & Gymnastics & NA  \\\\\n\t Marvin Julian Campbell  & M & Great Britain & Gymnastics & NA  \\\\\n\t Marvin Julian Campbell  & M & Great Britain & Gymnastics & NA  \\\\\n\t Walter Menzies Campbell & M & Great Britain & Athletics  & NA  \\\\\n\t Walter Menzies Campbell & M & Great Britain & Athletics  & NA  \\\\\n\t Michael Campbell        & M & Jamaica       & Athletics  & NA  \\\\\n\t Milton Gray \"Mi         &   &               &            &     \\\\\n\\end{tabular}\n",
            "text/plain": [
              "      Name                               Sex Team          \n",
              "1     A Dijiang                          M   China         \n",
              "2     A Lamusi                           M   China         \n",
              "3     Gunnar Nielsen Aaby                M   Denmark       \n",
              "4     Edgar Lindenau Aabye               M   Denmark/Sweden\n",
              "5     Christine Jacoba Aaftink           F   Netherlands   \n",
              "6     Christine Jacoba Aaftink           F   Netherlands   \n",
              "7     Christine Jacoba Aaftink           F   Netherlands   \n",
              "8     Christine Jacoba Aaftink           F   Netherlands   \n",
              "9     Christine Jacoba Aaftink           F   Netherlands   \n",
              "10    Christine Jacoba Aaftink           F   Netherlands   \n",
              "11    Per Knut Aaland                    M   United States \n",
              "12    Per Knut Aaland                    M   United States \n",
              "13    Per Knut Aaland                    M   United States \n",
              "14    Per Knut Aaland                    M   United States \n",
              "15    Per Knut Aaland                    M   United States \n",
              "16    Per Knut Aaland                    M   United States \n",
              "17    Per Knut Aaland                    M   United States \n",
              "18    Per Knut Aaland                    M   United States \n",
              "19    John Aalberg                       M   United States \n",
              "20    John Aalberg                       M   United States \n",
              "21    John Aalberg                       M   United States \n",
              "22    John Aalberg                       M   United States \n",
              "23    John Aalberg                       M   United States \n",
              "24    John Aalberg                       M   United States \n",
              "25    John Aalberg                       M   United States \n",
              "26    John Aalberg                       M   United States \n",
              "27    Cornelia \"Cor\" Aalten (-Strannood) F   Netherlands   \n",
              "28    Cornelia \"Cor\" Aalten (-Strannood) F   Netherlands   \n",
              "29    Antti Sami Aalto                   M   Finland       \n",
              "30    Einar Ferdinand \"Einari\" Aalto     M   Finland       \n",
              "⋮     ⋮                                  ⋮   ⋮             \n",
              "34389 Juliet Jean Campbell               F   Jamaica       \n",
              "34390 Juliet Jean Campbell               F   Jamaica       \n",
              "34391 Juliet Jean Campbell               F   Jamaica       \n",
              "34392 Juliet Jean Campbell               F   Jamaica       \n",
              "34393 Juliet Jean Campbell               F   Jamaica       \n",
              "34394 Kelsey Rene Campbell               F   United States \n",
              "34395 Kemoy Campbell                     M   Jamaica       \n",
              "34396 Kenneth \"Ken\" Campbell             M   Canada        \n",
              "34397 Kenneth \"Ken\" Campbell             M   Canada        \n",
              "34398 Kenneth Campbell                   M   Jamaica       \n",
              "34399 Lisa Jayne Campbell                F   Australia     \n",
              "34400 Lisa Jayne Campbell                F   Australia-2   \n",
              "34401 Logan Campbell                     M   New Zealand   \n",
              "34402 Logan Campbell                     M   New Zealand   \n",
              "34403 Luke Campbell                      M   Australia     \n",
              "34404 Luke Campbell                      M   Great Britain \n",
              "34405 Madeleine Anne Campbell            F   Great Britain \n",
              "34406 Madeleine Anne Campbell            F   Great Britain \n",
              "34407 Marvin Julian Campbell             M   Great Britain \n",
              "34408 Marvin Julian Campbell             M   Great Britain \n",
              "34409 Marvin Julian Campbell             M   Great Britain \n",
              "34410 Marvin Julian Campbell             M   Great Britain \n",
              "34411 Marvin Julian Campbell             M   Great Britain \n",
              "34412 Marvin Julian Campbell             M   Great Britain \n",
              "34413 Marvin Julian Campbell             M   Great Britain \n",
              "34414 Marvin Julian Campbell             M   Great Britain \n",
              "34415 Walter Menzies Campbell            M   Great Britain \n",
              "34416 Walter Menzies Campbell            M   Great Britain \n",
              "34417 Michael Campbell                   M   Jamaica       \n",
              "34418 Milton Gray \"Mi                                      \n",
              "      Sport                Medal\n",
              "1     Basketball           NA   \n",
              "2     Judo                 NA   \n",
              "3     Football             NA   \n",
              "4     Tug-Of-War           Gold \n",
              "5     Speed Skating        NA   \n",
              "6     Speed Skating        NA   \n",
              "7     Speed Skating        NA   \n",
              "8     Speed Skating        NA   \n",
              "9     Speed Skating        NA   \n",
              "10    Speed Skating        NA   \n",
              "11    Cross Country Skiing NA   \n",
              "12    Cross Country Skiing NA   \n",
              "13    Cross Country Skiing NA   \n",
              "14    Cross Country Skiing NA   \n",
              "15    Cross Country Skiing NA   \n",
              "16    Cross Country Skiing NA   \n",
              "17    Cross Country Skiing NA   \n",
              "18    Cross Country Skiing NA   \n",
              "19    Cross Country Skiing NA   \n",
              "20    Cross Country Skiing NA   \n",
              "21    Cross Country Skiing NA   \n",
              "22    Cross Country Skiing NA   \n",
              "23    Cross Country Skiing NA   \n",
              "24    Cross Country Skiing NA   \n",
              "25    Cross Country Skiing NA   \n",
              "26    Cross Country Skiing NA   \n",
              "27    Athletics            NA   \n",
              "28    Athletics            NA   \n",
              "29    Ice Hockey           NA   \n",
              "30    Swimming             NA   \n",
              "⋮     ⋮                    ⋮    \n",
              "34389 Athletics            NA   \n",
              "34390 Athletics            NA   \n",
              "34391 Athletics            NA   \n",
              "34392 Athletics            NA   \n",
              "34393 Athletics            NA   \n",
              "34394 Wrestling            NA   \n",
              "34395 Athletics            NA   \n",
              "34396 Swimming             NA   \n",
              "34397 Swimming             NA   \n",
              "34398 Boxing               NA   \n",
              "34399 Badminton            NA   \n",
              "34400 Badminton            NA   \n",
              "34401 Taekwondo            NA   \n",
              "34402 Taekwondo            NA   \n",
              "34403 Volleyball           NA   \n",
              "34404 Boxing               Gold \n",
              "34405 Swimming             NA   \n",
              "34406 Swimming             NA   \n",
              "34407 Gymnastics           NA   \n",
              "34408 Gymnastics           NA   \n",
              "34409 Gymnastics           NA   \n",
              "34410 Gymnastics           NA   \n",
              "34411 Gymnastics           NA   \n",
              "34412 Gymnastics           NA   \n",
              "34413 Gymnastics           NA   \n",
              "34414 Gymnastics           NA   \n",
              "34415 Athletics            NA   \n",
              "34416 Athletics            NA   \n",
              "34417 Athletics            NA   \n",
              "34418                           "
            ]
          },
          "metadata": {}
        }
      ]
    },
    {
      "cell_type": "markdown",
      "source": [
        "Here in the above operation i took a series of 5 columns includig Name, Sex, Team, Sport, Medal. Taking into consideration the medals won by the team USA, I shortlisted The Athlete who would sponsor Kelllogs."
      ],
      "metadata": {
        "id": "_L60xwB6XhdQ"
      }
    },
    {
      "cell_type": "markdown",
      "source": [
        "**Plot:-**"
      ],
      "metadata": {
        "id": "xasnYtk-ZTEB"
      }
    },
    {
      "cell_type": "code",
      "source": [
        "barplot(table(Dataset$Year,Dataset$Sport),col= \"Black\")"
      ],
      "metadata": {
        "colab": {
          "base_uri": "https://localhost:8080/",
          "height": 437
        },
        "id": "DHZxbO2AZL66",
        "outputId": "d1633fcd-a017-4eb0-b069-58471be0d5ac"
      },
      "execution_count": null,
      "outputs": [
        {
          "output_type": "display_data",
          "data": {
            "text/plain": [
              "plot without title"
            ],
            "image/png": "[encoded data removed]"
          },
          "metadata": {
            "image/png": {
              "width": 420,
              "height": 420
            }
          }
        }
      ]
    },
    {
      "cell_type": "markdown",
      "source": [
        "Here the code performed has created a Barplot for Sport and the Year."
      ],
      "metadata": {
        "id": "WJTb3i7lfL9j"
      }
    },
    {
      "cell_type": "markdown",
      "source": [
        "**Summary:-**\n",
        "\n",
        "From the above code performance and Research on the datset the following conclusions are drawn.\n",
        "All the Sports mentioned and all the teams given are almost the top notch team from each country.\n",
        "Selecting one Sponsor from the Most happening place in USA from the worlds famous Sport Athletics was possible by analyzing all the columns and rows of the dataset."
      ],
      "metadata": {
        "id": "qGaqCwCSf6pW"
      }
    },
    {
      "cell_type": "markdown",
      "source": [
        "**Recommendation:-**\n",
        "\n",
        "I Recommend Edgar Allen As the Sponsor for Kellogs as he is the Gold Medalist In Atheletics. He is from Los Angeles , United States of America. He can certainly pull off the support role to the Company and is an Ideal Business Partner."
      ],
      "metadata": {
        "id": "0X0Nz14Egt1T"
      }
    }
  ]
}